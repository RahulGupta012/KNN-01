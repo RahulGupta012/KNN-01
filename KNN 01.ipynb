{
 "cells": [
  {
   "cell_type": "markdown",
   "id": "35ffeaae-030b-4956-8e6c-ccf450b81c29",
   "metadata": {},
   "source": [
    "# KNN 01"
   ]
  },
  {
   "cell_type": "markdown",
   "id": "06b3e41b-eba3-4651-8dfc-db779f7d8a9c",
   "metadata": {},
   "source": [
    "____________"
   ]
  },
  {
   "cell_type": "markdown",
   "id": "6dbec4f9-2691-42fe-8b3f-8ae9702083c1",
   "metadata": {},
   "source": [
    "# Q1. What is the KNN algorithm?"
   ]
  },
  {
   "cell_type": "markdown",
   "id": "97a2f705-c8a3-40bc-b894-addee4042f9e",
   "metadata": {},
   "source": [
    "K nearset neighbour is an machine learning algorithem, which is used for solving the both classification and regression problems.This algorithem works with the new data point, as when a new data point comes for prediction , it takes the some nearest data points of the new data point and after calulating the avrage of these neighbours data points and give the output accoridingly. It's also known as a lazy learner because it doesn't build an explicit model during the training phase. Instead, it memorizes the training data and performs computations at prediction time.\n",
    "\n",
    "\n",
    "  **For Classification problems :** \n",
    "- It will calculate the distance between the new data point and all the training examples.\n",
    "- by calculating the distance, model will indenitfy the top 5 or as given in the permater,lowest distance datapoints, which we calls k- neighbours.\n",
    "- And as we discussed about the classification problem so, by these k-neighbours frequency , which datapoint appers as most of the time, is selected as final output.\n",
    "\n",
    " **For Regression Problem :** \n",
    "- The process of the training is same , wether it is classifiaction or regression problem. In the regression problem , knn is also identify the nearest data points of given new data points according to the distance amoung them.\n",
    "- But when it comes to aggrigate the output, regression has diffrent techniques to be solved as they required the avrage of the k-neigbours instead of selecting most accuring element.\n",
    "\n",
    "\n",
    "\n",
    "KNN can be computentionlly expensive as it calculate the distance amoung all the data points. It increse the time complexity . However some of the perameters as KD tree and Ball tree seems bit helpfull for such conditions. It is not very helpfull for solving the complex problems of data. \n",
    "  \n",
    "  \n"
   ]
  },
  {
   "cell_type": "markdown",
   "id": "08b0e489-d5e3-43f4-b018-432e02c9d647",
   "metadata": {},
   "source": [
    "# Q2. How do you choose the value of K in KNN?"
   ]
  },
  {
   "cell_type": "markdown",
   "id": "c3a0e006-562b-45d5-8c6b-ddc6216e6881",
   "metadata": {},
   "source": [
    "\"k\" refers to the number of nearest neighbors that are considered when making predictions for a new data point.It is a hyperparameter that you must specify before applying the algorithm to your dataset.The choice of \"k\" can significantly impact the model's ability to generalize well to new, unseen data. Here are some common approaches to selecting the value of \"k\":\n",
    "\n",
    " **Cross Validation Method :** We can use cross validation for choosing the value of k. As we can check the different values of k to determine the best value of k. We can check the errors and performance by z2_score and mse,F1 score..etc..  to determine this value.\n",
    "\n",
    " **Hyparperameter Tunning :** Hyparameter tunning can make this task easy as we can use grid search cv or randomized search cv to find the best value of k according to our situation.\n",
    "\n",
    "  The size of your dataset can also influence the choice of \"k.\" For smaller datasets, a smaller \"k\" may be more appropriate to capture local patterns, while for larger datasets, a larger \"k\" might be suitable."
   ]
  },
  {
   "cell_type": "markdown",
   "id": "f5c07574-4fef-4c5e-a5dd-4c2b5c0afb55",
   "metadata": {},
   "source": [
    "# Q3. What is the difference between KNN classifier and KNN regressor?"
   ]
  },
  {
   "cell_type": "markdown",
   "id": "f453dcf3-a2d5-43c7-acc2-16b5bc74ba67",
   "metadata": {},
   "source": [
    "**KNN Classifier :**\n",
    "\n",
    "KNN classifier is used for solving the classification problems as it help to predict the categorical classes.For a given data point, the KNN classifier identifies the \"k\" nearest neighbors in the training set and assigns the class label that is most common among these neighbors to the new data point. Even the KNN commnly used for classification problems.\n",
    "\n",
    "**KNN Regressor :**\n",
    "\n",
    "Knn regressor is alwyas solving the regression problems, the problems of continoues vlaues.For a given data point, the KNN regressor identifies the \"k\" nearest neighbors in the training set and calculates the average (or weighted average) of their target values. This average is then assigned as the predicted value for the new data point."
   ]
  },
  {
   "cell_type": "markdown",
   "id": "0839bf31-a617-4dab-b8f0-5c7dd29c04e0",
   "metadata": {},
   "source": [
    "# Q4. How do you measure the performance of KNN?"
   ]
  },
  {
   "attachments": {
    "24ae7240-a916-4793-ad76-4efb13541fb1.PNG": {
     "image/png": "[encoded data removed]"
    },
    "2bd7db35-5d28-4cc9-ba57-318626e8a749.PNG": {
     "image/png": "[encoded data removed]"
    },
    "9ba1ff14-58ca-4e38-ae79-f966f146c24d.jpg": {
     "image/jpeg": "[encoded data removed]"
    },
    "b58dc1d4-53fb-43c3-b8f3-f5af0f1f820e.PNG": {
     "image/png": "[encoded data removed]"
    },
    "d41b3d70-da3a-4cba-9dee-c9cb4affcdca.PNG": {
     "image/png": "[encoded data removed]"
    }
   },
   "cell_type": "markdown",
   "id": "c85fa3d5-27d0-4380-b80a-9e05f54afd7c",
   "metadata": {},
   "source": [
    "There are some diffrent matrics as for classification and regression problems, to evaluating the performance of the KNN algorithems. In which some are measured the accuracy while some are give the score of performance. These are illusrated below :\n",
    "\n",
    "                                  \n",
    "                                  Classification Metrics\n",
    "\n",
    "\n",
    "**Accuracy :** It is used to find the accuracy of the model. As at in what proportion our model will predicts the value correctly.\n",
    "\n",
    "- farmula = (Number of Correct Predictions) / (Total Number of Predictions)\n",
    "\n",
    "**Confusion Matrix :** \n",
    "\n",
    "A table showing true positives, true negatives, false positives, and false negatives. The values which are diagonally-left side are the value, which are wrongly predicted.\n",
    "\n",
    "![confussion matrix.jpg](attachment:9ba1ff14-58ca-4e38-ae79-f966f146c24d.jpg)\n",
    "\n",
    "**Precision :**\n",
    "\n",
    "ocuses on the accuracy of positive predictions\n",
    "\n",
    "- Farmula = TP/ TP+ FP\n",
    "\n",
    "**Recall :**\n",
    "\n",
    "- Farmula = TP/TP + FN\n",
    "\n",
    "**F1 Score :** \n",
    "\n",
    "Harmonic mean of precision and recall,\n",
    "\n",
    "- farmula = (Precision * Recall) / (Precision + Recall)\n",
    "\n",
    "\n",
    "                             \n",
    "                                         Regresson Metrics\n",
    "                                         \n",
    "\n",
    "**R square :** Measures the proportion of the variance in the dependent variable that is predictable from the independent variables.Ranges from 0 to 1; higher values indicate better performance.\n",
    "\n",
    "![R square.PNG](attachment:d41b3d70-da3a-4cba-9dee-c9cb4affcdca.PNG)\n",
    "\n",
    "**Mean Absolute Error :** The average absolute difference between predicted and actual values.\n",
    "\n",
    "![MAE.PNG](attachment:24ae7240-a916-4793-ad76-4efb13541fb1.PNG)\n",
    "\n",
    "**Mean Squared Error :** The average squared difference between predicted and actual values.\n",
    "\n",
    "![MSE.PNG](attachment:2bd7db35-5d28-4cc9-ba57-318626e8a749.PNG)\n",
    "\n",
    "**Root Mean Sqaured Error :** The square root of the MSE, providing an interpretable metric in the same units as the target variable.\n",
    "\n",
    "![R square.PNG](attachment:b58dc1d4-53fb-43c3-b8f3-f5af0f1f820e.PNG)"
   ]
  },
  {
   "cell_type": "markdown",
   "id": "a12b3222-0ce3-4dcf-a273-9133e921279a",
   "metadata": {},
   "source": [
    "# Q5. What is the curse of dimensionality in KNN?"
   ]
  },
  {
   "cell_type": "markdown",
   "id": "ed2fbfb8-7503-4845-8be6-f11b1257e251",
   "metadata": {},
   "source": [
    "Curse of dimensionality is a issue , which occures when we deal with the high- daimnetional data.It puts a bad impact on the performance of the model.\n",
    "\n",
    "**Computetional Complexity :** As the number of dimensions (features) increases, the distance between data points becomes larger in the high-dimensional space. Computing distances between points in high-dimensional space is computationally expensive.\n",
    "\n",
    "**Overfitting :** KNN is sensitive to noise and irrelevant features, especially in high-dimensional spaces. The inclusion of irrelevant features can lead to overfitting, where the model captures noise in the data rather than true patterns.\n",
    "\n",
    "   High-dimensional data can lead to overfitting, causing the model to perform well on the training data but poorly on unseen data. The model may become too specific to the training set, failing to generalize to new and unseen instances."
   ]
  },
  {
   "cell_type": "markdown",
   "id": "feea536f-c583-4b15-b349-66a931c5acf7",
   "metadata": {},
   "source": [
    "# Q6. How do you handle missing values in KNN?"
   ]
  },
  {
   "cell_type": "markdown",
   "id": "6ec05916-2378-407d-b74e-3992a604eec0",
   "metadata": {},
   "source": [
    "As commenly we are handing the missing values in our dataset by imputing the mean or median of rest of the data. But KNN is a technique which can we used to filling or imputting the missing values as for handling the missing value we just find the k- neghbiours of that data point which is missing. and according to that values we simply impute the place by the value which is missing."
   ]
  },
  {
   "cell_type": "markdown",
   "id": "9ed4d754-0d07-4b11-ac99-5656478949ba",
   "metadata": {},
   "source": [
    "# Q7. Compare and contrast the performance of the KNN classifier and regressor. Which one is better for which type of problem?"
   ]
  },
  {
   "cell_type": "markdown",
   "id": "886ee094-eaee-42f7-ad79-53686c6066e7",
   "metadata": {},
   "source": [
    "The choice between KNN classification and regression depends on the nature of the problem and the characteristics of the data.KNN is better for classification tasks when dealing with non-linear and complex decision boundaries.KNN regression is suitable for tasks where the relationship between input features and the target variable is not easily captured by linear models."
   ]
  },
  {
   "cell_type": "markdown",
   "id": "70b2bf4b-b46b-48f4-9157-a93dda91f84b",
   "metadata": {},
   "source": [
    "# Q8. What are the strengths and weaknesses of the KNN algorithm for classification and regression tasks?"
   ]
  },
  {
   "cell_type": "markdown",
   "id": "c51d2661-d034-4653-a712-320090b5e8ac",
   "metadata": {},
   "source": [
    "***Strengths of KNN algorithem:***\n",
    "\n",
    "- **Simplisity :** Knn is very simple algorithem to understand. Even who has less knowledge of machine learning, Knn works well for them.\n",
    "- **No training phase :** KNN is a lazy learner, meaning it doesn't have a training phase. The model is built at the time of prediction, which allows it to adapt quickly to changes in the data.\n",
    "\n",
    "***Weaknesses of KNN algorithem :***\n",
    "\n",
    "- **Computetionally Complex :** As it compute the distance among each data point for giving a prediction, the processes will make computentionally complex.\n",
    "\n",
    "- **No feature selection :** This alorithem has no any feature selection techniques. and because of this, it gives the equal importance/participation to the feature even who is not so important or relevant to the dependent faeture.Feature scaling and careful feature selection can help mitigate this issue.\n",
    "\n",
    "- **Outliers :** Outliers can significantly affect the performance of KNN, as they may heavily influence the neighbors and, consequently, the predictions. Robust distance metrics or outlier removal techniques can be applied to address this. \n",
    "\n"
   ]
  },
  {
   "cell_type": "markdown",
   "id": "771cfd62-1c69-4a44-a22d-c6db27e12955",
   "metadata": {},
   "source": [
    "# Q9. What is the difference between Euclidean distance and Manhattan distance in KNN?"
   ]
  },
  {
   "attachments": {
    "1106270b-d531-46ce-a9dc-1847fa84d533.PNG": {
     "image/png": "[encoded data removed]"
    },
    "a126d5ef-8345-4e84-b56c-c90d03bb0ba7.PNG": {
     "image/png": "[encoded data removed]"
    }
   },
   "cell_type": "markdown",
   "id": "bbc00ca6-bfaf-4889-9c09-47395f0d4c9d",
   "metadata": {},
   "source": [
    "Euclidean and Manhattan both are the distance metrics, which means they give the value of the distance of data points. these distance metrics are commonly used to determine the similarity or dissimilarity between data points.\n",
    "\n",
    "1. **Euclidean distance :** The Euclidean distance is the straight-line distance between two points in a Euclidean space.It measures the length of the shortest path between two points.It is sensitive to both large and small differences between coordinates. Commonly used when the features have a continuous distribution.\n",
    "\n",
    "- farmula = ![Euclidean.PNG](attachment:a126d5ef-8345-4e84-b56c-c90d03bb0ba7.PNG)\n",
    "\n",
    "2. **Manhattan Distance :** The Manhattan distance is the sum of the absolute differences between the coordinates of two points.\n",
    "It is also known as the \"taxicab\" or \"city block\" distance, as it measures the distance a taxi would travel along the grid-like streets of a city to reach a destination.Commonly used when dealing with features that are measured in different units or have different scales.\n",
    "\n",
    "- farmula = ![Manhattan Distance.PNG](attachment:1106270b-d531-46ce-a9dc-1847fa84d533.PNG)"
   ]
  },
  {
   "cell_type": "markdown",
   "id": "b3477ee9-fff6-4a36-8e61-9ad6cf0b1186",
   "metadata": {},
   "source": [
    "# Q10. What is the role of feature scaling in KNN?"
   ]
  },
  {
   "cell_type": "markdown",
   "id": "0d629a27-603a-4811-903e-42f15db28de1",
   "metadata": {},
   "source": [
    "Feature scaling means ; ensuring the equal particaption of each element in the prediction.. The main role of feature scaling in KNN is to ensure that all features contribute equally to the distance computations. It scaled the feature who are dominating the model. And this is going to definatly incresing the perforance of our model."
   ]
  }
 ],
 "metadata": {
  "kernelspec": {
   "display_name": "Python 3 (ipykernel)",
   "language": "python",
   "name": "python3"
  },
  "language_info": {
   "codemirror_mode": {
    "name": "ipython",
    "version": 3
   },
   "file_extension": ".py",
   "mimetype": "text/x-python",
   "name": "python",
   "nbconvert_exporter": "python",
   "pygments_lexer": "ipython3",
   "version": "3.10.8"
  }
 },
 "nbformat": 4,
 "nbformat_minor": 5
}
